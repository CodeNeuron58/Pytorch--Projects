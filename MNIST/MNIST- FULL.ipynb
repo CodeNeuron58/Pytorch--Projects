{
  "cells": [
    {
      "cell_type": "code",
      "execution_count": null,
      "metadata": {
        "id": "EhZMtSdM3W4N"
      },
      "outputs": [],
      "source": [
        "import pandas as pd\n",
        "from sklearn.model_selection import train_test_split\n",
        "import torch\n",
        "from torch.utils.data import Dataset, DataLoader\n",
        "import torch.nn as nn\n",
        "import torch.optim as optim\n",
        "import matplotlib.pyplot as plt"
      ]
    },
    {
      "cell_type": "code",
      "execution_count": null,
      "metadata": {
        "colab": {
          "base_uri": "https://localhost:8080/"
        },
        "id": "NCrakIjRollf",
        "outputId": "c25e2b69-5799-4a9a-b7b1-8c26452b5433"
      },
      "outputs": [],
      "source": [
        "# Set random seeds for reproducibility\n",
        "torch.manual_seed(42)"
      ]
    },
    {
      "cell_type": "code",
      "execution_count": null,
      "metadata": {
        "colab": {
          "base_uri": "https://localhost:8080/"
        },
        "id": "3DYn2_6J2oYF",
        "outputId": "28bb4bca-fe1d-4250-96aa-28f1e8735b54"
      },
      "outputs": [],
      "source": [
        "# Check for GPU\n",
        "device = torch.device('cuda' if torch.cuda.is_available() else 'cpu')\n",
        "print(f\"Using device: {device}\")"
      ]
    },
    {
      "cell_type": "code",
      "execution_count": null,
      "metadata": {
        "colab": {
          "base_uri": "https://localhost:8080/",
          "height": 255
        },
        "id": "7lZjGSXR35Qz",
        "outputId": "39b0df21-6aac-43e7-f652-3d377741b676"
      },
      "outputs": [],
      "source": [
        "df = pd.read_csv('fashion-mnist_train.csv')\n",
        "df.head()"
      ]
    },
    {
      "cell_type": "code",
      "execution_count": null,
      "metadata": {
        "colab": {
          "base_uri": "https://localhost:8080/"
        },
        "id": "u70Dnz9f36Yo",
        "outputId": "df768a14-3f30-4780-a8bd-5c0c6e4129f6"
      },
      "outputs": [],
      "source": [
        "df.shape"
      ]
    },
    {
      "cell_type": "code",
      "execution_count": null,
      "metadata": {
        "colab": {
          "base_uri": "https://localhost:8080/",
          "height": 1000
        },
        "id": "jFkhK1dvyzW8",
        "outputId": "94c3e113-afef-472d-8e9c-d17843e660cb"
      },
      "outputs": [],
      "source": [
        "# Create a 4x4 grid of images\n",
        "fig, axes = plt.subplots(4, 4, figsize=(10, 10))\n",
        "fig.suptitle(\"First 16 Images\", fontsize=16)\n",
        "\n",
        "# Plot the first 16 images from the dataset\n",
        "for i, ax in enumerate(axes.flat):\n",
        "    img = df.iloc[i, 1:].values.reshape(28, 28)  # Reshape to 28x28\n",
        "    ax.imshow(img)  # Display in grayscale\n",
        "    ax.axis('off')  # Remove axis for a cleaner look\n",
        "    ax.set_title(f\"Label: {df.iloc[i, 0]}\")  # Show the label\n",
        "\n",
        "plt.tight_layout(rect=[0, 0, 1, 0.96])  # Adjust layout to fit the title\n",
        "plt.show()\n"
      ]
    },
    {
      "cell_type": "code",
      "execution_count": null,
      "metadata": {
        "id": "CPoB2jkn3-8V"
      },
      "outputs": [],
      "source": [
        "# train test split\n",
        "\n",
        "X = df.iloc[:, 1:].values\n",
        "y = df.iloc[:, 0].values"
      ]
    },
    {
      "cell_type": "code",
      "execution_count": null,
      "metadata": {
        "id": "CtmEmavE4K7V"
      },
      "outputs": [],
      "source": [
        "X_train, X_test, y_train, y_test = train_test_split(X, y, test_size=0.2, random_state=42)"
      ]
    },
    {
      "cell_type": "code",
      "execution_count": null,
      "metadata": {
        "id": "6zRx5nPbkoM-"
      },
      "outputs": [],
      "source": [
        "X_train = X_train/255.0\n",
        "X_test = X_test/255.0"
      ]
    },
    {
      "cell_type": "code",
      "execution_count": null,
      "metadata": {
        "id": "0oISAHnU5GnT"
      },
      "outputs": [],
      "source": [
        "class CustomDataset(Dataset):\n",
        "\n",
        "  def __init__(self, features, labels):\n",
        "\n",
        "    # Convert to PyTorch tensors\n",
        "    self.features = torch.tensor(features, dtype=torch.float32)\n",
        "    self.labels = torch.tensor(labels, dtype=torch.long)\n",
        "\n",
        "  def __len__(self):\n",
        "    return len(self.features)\n",
        "\n",
        "  def __getitem__(self, index):\n",
        "    return self.features[index], self.labels[index]"
      ]
    },
    {
      "cell_type": "code",
      "execution_count": null,
      "metadata": {
        "id": "Thpv_XzP5z_b"
      },
      "outputs": [],
      "source": [
        "train_dataset = CustomDataset(X_train, y_train)"
      ]
    },
    {
      "cell_type": "code",
      "execution_count": null,
      "metadata": {
        "id": "kqAkmOzV58TD"
      },
      "outputs": [],
      "source": [
        "test_dataset = CustomDataset(X_test, y_test)"
      ]
    },
    {
      "cell_type": "code",
      "execution_count": null,
      "metadata": {
        "id": "UW-HhV4x5_PD"
      },
      "outputs": [],
      "source": [
        "# train_loader = DataLoader(train_dataset, batch_size=32, shuffle=True, pin_memory=True)\n",
        "# test_loader = DataLoader(test_dataset, batch_size=32, shuffle=False, pin_memory=True)"
      ]
    },
    {
      "cell_type": "code",
      "execution_count": null,
      "metadata": {
        "colab": {
          "base_uri": "https://localhost:8080/"
        },
        "id": "uZq-FOc9Zdw4",
        "outputId": "f86da887-e358-4bad-e72f-6db6e4e68c7b"
      },
      "outputs": [],
      "source": [
        "len(train_loader)"
      ]
    },
    {
      "cell_type": "code",
      "execution_count": null,
      "metadata": {},
      "outputs": [],
      "source": [
        "input_dim = 784\n",
        "output_dim = 10"
      ]
    },
    {
      "cell_type": "code",
      "execution_count": null,
      "metadata": {
        "id": "Xgn1tw9I6fPT"
      },
      "outputs": [],
      "source": [
        "class myNN(nn.Module):\n",
        "\n",
        "  def __init__(self, input_dim, output_dim, num_hidden_layers, neurons_per_layers,dropout_rate):\n",
        "    super().__init__()\n",
        "\n",
        "    layers = []\n",
        "    for i in range(num_hidden_layers):\n",
        "      layers.append(nn.Linear(input_dim, neurons_per_layers))\n",
        "      layers.append(nn.BatchNorm1d(neurons_per_layers))\n",
        "      layers.append(nn.ReLU())\n",
        "      layers.append(nn.Dropout(dropout_rate))\n",
        "      input_dim = neurons_per_layers\n",
        "\n",
        "    layers.append(nn.Linear(neurons_per_layers, output_dim))\n",
        "\n",
        "    self.model = nn.Sequential(*layers)\n",
        "\n",
        "  def forward(self, x):\n",
        "    return self.model(x)\n",
        "    \n"
      ]
    },
    {
      "cell_type": "code",
      "execution_count": null,
      "metadata": {},
      "outputs": [],
      "source": [
        "from tqdm import tqdm"
      ]
    },
    {
      "cell_type": "code",
      "execution_count": null,
      "metadata": {},
      "outputs": [],
      "source": [
        "def objective(trial):\n",
        "    # Hyperparameters to optimize\n",
        "    num_hidden_layers = trial.suggest_int('num_hidden_layers', 1, 5)\n",
        "    neurons_per_layers = trial.suggest_int('neurons_per_layers', 8, 128, step=8)\n",
        "    epochs = trial.suggest_int('epochs', 10, 100, step=10)\n",
        "    learning_rate = trial.suggest_float(\"learning_rate\", 1e-5, 1e-1, log=True)\n",
        "    dropout_rate = trial.suggest_float(\"dropout_rate\", 0.1, 0.5, step=0.1)\n",
        "    batch_size = trial.suggest_categorical(\"batch_size\", [16, 32, 64, 128])\n",
        "    optimizer_name = trial.suggest_categorical(\"optimizer\", [\"Adam\", \"SGD\", \"RMSprop\"])\n",
        "    weight_decay = trial.suggest_float(\"weight_decay\", 1e-5, 1e-1, log=True)\n",
        "\n",
        "    # Data loaders setup\n",
        "    train_loader = DataLoader(train_dataset, batch_size=batch_size, shuffle=True, pin_memory=True)\n",
        "    test_loader = DataLoader(test_dataset, batch_size=batch_size, shuffle=False, pin_memory=True)\n",
        "\n",
        "    # Initialize model and move to device\n",
        "    model = myNN(input_dim, output_dim, num_hidden_layers, neurons_per_layers, dropout_rate)\n",
        "    model.to(device)\n",
        "\n",
        "    # Training configuration\n",
        "    criterion = nn.CrossEntropyLoss()\n",
        "    \n",
        "    # Optimizer selection\n",
        "    optimizer_dict = {\n",
        "        \"Adam\": optim.Adam,\n",
        "        \"SGD\": optim.SGD,\n",
        "        \"RMSprop\": optim.RMSprop\n",
        "    }\n",
        "    optimizer = optimizer_dict[optimizer_name](model.parameters(), lr=learning_rate, weight_decay=weight_decay)\n",
        "\n",
        "    # Training phase\n",
        "    for epoch in tqdm(range(epochs), desc='Epochs'):\n",
        "        model.train()\n",
        "        for batch_features, batch_labels in tqdm(train_loader, desc=f'Epoch {epoch+1}/{epochs}', leave=False):\n",
        "            # Prepare batch data\n",
        "            batch_features = batch_features.to(device)\n",
        "            batch_labels = batch_labels.to(device)\n",
        "            \n",
        "            # Training step\n",
        "            optimizer.zero_grad()\n",
        "            output = model(batch_features)\n",
        "            loss = criterion(output, batch_labels)\n",
        "            loss.backward()\n",
        "            optimizer.step()\n",
        "\n",
        "    # Evaluation phase\n",
        "    model.eval()\n",
        "    total = 0\n",
        "    correct = 0\n",
        "\n",
        "    with torch.no_grad():\n",
        "        for batch_features, batch_labels in train_loader:\n",
        "            # Prepare batch data\n",
        "            batch_features = batch_features.to(device)\n",
        "            batch_labels = batch_labels.to(device)\n",
        "            \n",
        "            # Make predictions\n",
        "            outputs = model(batch_features)\n",
        "            _, predicted = torch.max(outputs, 1)\n",
        "            \n",
        "            # Calculate accuracy\n",
        "            total += batch_labels.size(0)\n",
        "            correct += (predicted == batch_labels).sum().item()\n",
        "            \n",
        "        accuracy = correct / total\n",
        "        return accuracy"
      ]
    },
    {
      "cell_type": "code",
      "execution_count": null,
      "metadata": {},
      "outputs": [],
      "source": [
        "# Import optuna library for hyperparameter optimization\n",
        "import optuna\n",
        "\n",
        "# Create an optimization study that tries to maximize the objective\n",
        "study = optuna.create_study(direction=\"maximize\")"
      ]
    },
    {
      "cell_type": "code",
      "execution_count": null,
      "metadata": {},
      "outputs": [],
      "source": [
        "# Run optimization study with 50 trials\n",
        "study.optimize(objective, n_trials=50)"
      ]
    },
    {
      "cell_type": "code",
      "execution_count": null,
      "metadata": {},
      "outputs": [],
      "source": [
        "# Get the best validation accuracy from the study\n",
        "print(f\"Best validation accuracy: {study.best_value}\")\n",
        "\n",
        "# Get the best hyperparameters found during optimization\n",
        "print(f\"Best hyperparameters: {study.best_params}\")\n"
      ]
    },
    {
      "cell_type": "code",
      "execution_count": null,
      "metadata": {
        "id": "z3LfMWb698O5"
      },
      "outputs": [],
      "source": [
        "# learning_rate = 0.1\n",
        "# epochs = 100"
      ]
    },
    {
      "cell_type": "code",
      "execution_count": null,
      "metadata": {
        "id": "JpbU_UCp9N1r"
      },
      "outputs": [],
      "source": [
        "# # instatiate the model\n",
        "# model = MyNN(X_train.shape[1])\n",
        "# model = model.to(device)\n",
        "# # loss function\n",
        "# criterion = nn.CrossEntropyLoss()\n",
        "# # optimizer\n",
        "# optimizer = optim.SGD(model.parameters(), lr=learning_rate, weight_decay=1e-4)"
      ]
    },
    {
      "cell_type": "code",
      "execution_count": null,
      "metadata": {},
      "outputs": [],
      "source": [
        "# from tqdm import tqdm"
      ]
    },
    {
      "cell_type": "code",
      "execution_count": null,
      "metadata": {
        "colab": {
          "base_uri": "https://localhost:8080/"
        },
        "id": "0UpCVk9X-JaI",
        "outputId": "4089bf3c-4f18-42c3-92b7-9cf4dcbc8577"
      },
      "outputs": [],
      "source": [
        "# # Training loop - iterate through epochs\n",
        "# for epoch in tqdm(range(epochs), desc='Epochs'):\n",
        "#     # Track metrics for this epoch\n",
        "#     running_loss = 0.0\n",
        "    \n",
        "#     # Inner loop - process each batch of data\n",
        "#     for batch_features, batch_labels in tqdm(train_loader, desc=f'Epoch {epoch+1}/{epochs}', leave=False):\n",
        "#         # Move batch data to specified device (CPU/GPU)\n",
        "#         batch_features, batch_labels = batch_features.to(device), batch_labels.to(device)\n",
        "        \n",
        "#         # Reset gradients to zero before each backward pass\n",
        "#         optimizer.zero_grad()\n",
        "        \n",
        "#         # Forward pass - get model predictions\n",
        "#         output = model(batch_features)\n",
        "        \n",
        "#         # Calculate loss between predictions and actual labels\n",
        "#         loss = criterion(output, batch_labels)\n",
        "        \n",
        "#         # Backward pass - compute gradients\n",
        "#         loss.backward()\n",
        "        \n",
        "#         # Update model parameters using optimizer\n",
        "#         optimizer.step()\n",
        "        \n",
        "#         # Accumulate running loss\n",
        "#         running_loss += loss.item()\n",
        "    \n",
        "#     # Calculate and display average loss for the epoch\n",
        "#     epoch_loss = running_loss / len(train_loader)\n",
        "#     print(f'\\nEpoch {epoch+1}/{epochs} - Average Loss: {epoch_loss:.4f}')\n"
      ]
    },
    {
      "cell_type": "code",
      "execution_count": null,
      "metadata": {
        "colab": {
          "base_uri": "https://localhost:8080/"
        },
        "id": "CA6B2YPYAOtu",
        "outputId": "a4e4d29f-16cc-4661-c3ee-f283d9507ea1"
      },
      "outputs": [],
      "source": [
        "# model.eval()"
      ]
    },
    {
      "cell_type": "code",
      "execution_count": null,
      "metadata": {},
      "outputs": [],
      "source": [
        "# # TRAIN EVALUATION\n",
        "\n",
        "# # Initialize counters for tracking model performance\n",
        "# total = 0       # Total number of test samples\n",
        "# correct = 0     # Number of correct predictions\n",
        "\n",
        "# # Disable gradient calculation since we're only doing inference\n",
        "# with torch.no_grad():\n",
        "#     # Iterate through test data batches\n",
        "#     for batch_features, batch_labels in train_loader:\n",
        "\n",
        "#         # Move batch data to specified device (CPU/GPU)\n",
        "#         batch_features, batch_labels = batch_features.to(device), batch_labels.to(device)\n",
        "\n",
        "#         # Get model predictions for current batch\n",
        "#         outputs = model(batch_features)\n",
        "\n",
        "#         # Get the highest probability prediction for each sample\n",
        "#         _,predicted = torch.max(outputs, 1)\n",
        "\n",
        "#         # Add batch size to total count\n",
        "#         total += batch_labels.size(0)\n",
        "        \n",
        "#         # Count correct predictions in this batch\n",
        "#         correct += (predicted == batch_labels).sum().item()\n",
        "\n",
        "# # Calculate and print final accuracy\n",
        "# print(\"TRAIN Accuracy:\", correct/total)"
      ]
    },
    {
      "cell_type": "code",
      "execution_count": null,
      "metadata": {
        "colab": {
          "base_uri": "https://localhost:8080/"
        },
        "id": "Xwirkg4PPNhB",
        "outputId": "2cb29ff7-2ec2-4d0d-e7d9-d62cb9e04594"
      },
      "outputs": [],
      "source": [
        "# # TEST EVALUATION\n",
        "\n",
        "# # Initialize counters for tracking model performance\n",
        "# total = 0       # Total number of test samples\n",
        "# correct = 0     # Number of correct predictions\n",
        "\n",
        "# # Disable gradient calculation since we're only doing inference\n",
        "# with torch.no_grad():\n",
        "#     # Iterate through test data batches\n",
        "#     for batch_features, batch_labels in test_loader:\n",
        "\n",
        "#         # Move batch data to specified device (CPU/GPU)\n",
        "#         batch_features, batch_labels = batch_features.to(device), batch_labels.to(device)\n",
        "\n",
        "#         # Get model predictions for current batch\n",
        "#         outputs = model(batch_features)\n",
        "\n",
        "#         # Get the highest probability prediction for each sample\n",
        "#         _,predicted = torch.max(outputs, 1)\n",
        "\n",
        "#         # Add batch size to total count\n",
        "#         total += batch_labels.size(0)\n",
        "        \n",
        "#         # Count correct predictions in this batch\n",
        "#         correct += (predicted == batch_labels).sum().item()\n",
        "\n",
        "# # Calculate and print final accuracy\n",
        "# print(\"TEST Accuracy:\", correct/total)"
      ]
    },
    {
      "cell_type": "code",
      "execution_count": null,
      "metadata": {
        "id": "RiQB7vWWHY7k"
      },
      "outputs": [],
      "source": [
        "# Overfiting is a problem in machine learning where the model learns the training data too well and performs poorly on new data.\n",
        "# Regularization is a technique used to prevent overfitting in machine learning models.\n",
        "# Dropout is a regularization technique used in neural networks to prevent overfitting.\n",
        "# Dropout randomly sets a fraction of the input units to 0 at each update during training time, which helps to prevent overfitting."
      ]
    },
    {
      "cell_type": "code",
      "execution_count": null,
      "metadata": {},
      "outputs": [],
      "source": []
    }
  ],
  "metadata": {
    "accelerator": "GPU",
    "colab": {
      "gpuType": "T4",
      "provenance": []
    },
    "kernelspec": {
      "display_name": "myenv",
      "language": "python",
      "name": "python3"
    },
    "language_info": {
      "codemirror_mode": {
        "name": "ipython",
        "version": 3
      },
      "file_extension": ".py",
      "mimetype": "text/x-python",
      "name": "python",
      "nbconvert_exporter": "python",
      "pygments_lexer": "ipython3",
      "version": "3.12.3"
    }
  },
  "nbformat": 4,
  "nbformat_minor": 0
}
